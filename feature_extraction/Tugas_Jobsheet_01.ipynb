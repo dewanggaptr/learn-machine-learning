{
 "cells": [
  {
   "cell_type": "code",
   "execution_count": 23,
   "metadata": {},
   "outputs": [],
   "source": [
    "import pandas as pd"
   ]
  },
  {
   "cell_type": "code",
   "execution_count": 22,
   "metadata": {},
   "outputs": [
    {
     "name": "stdout",
     "output_type": "stream",
     "text": [
      "['000' '10' '12th' ... 'youngster' 'yourselfin' 'zero']\n"
     ]
    }
   ],
   "source": [
    "from sklearn.feature_extraction.text import TfidfVectorizer\n",
    "\n",
    "data_file = open('orange.txt', 'r').read() \n",
    "data = data_file.replace(':', '').replace('\\n', '').replace(\"  \", '').replace('\\ ', '').replace('  ', '').replace('\"', '').replace(\"=\", '').replace(\"-\", '').split('.')\n",
    "# print(data)\n",
    "\n",
    "vect = TfidfVectorizer(stop_words='english')\n",
    "response = vect.fit_transform(data)\n",
    "head = vect.get_feature_names_out()\n",
    "pd.DataFrame(response.todense()).to_csv('result.csv', header=head)"
   ]
  },
  {
   "cell_type": "code",
   "execution_count": null,
   "metadata": {},
   "outputs": [],
   "source": []
  }
 ],
 "metadata": {
  "kernelspec": {
   "display_name": "Python 3.10.5 64-bit",
   "language": "python",
   "name": "python3"
  },
  "language_info": {
   "codemirror_mode": {
    "name": "ipython",
    "version": 3
   },
   "file_extension": ".py",
   "mimetype": "text/x-python",
   "name": "python",
   "nbconvert_exporter": "python",
   "pygments_lexer": "ipython3",
   "version": "3.10.5"
  },
  "orig_nbformat": 4,
  "vscode": {
   "interpreter": {
    "hash": "26de051ba29f2982a8de78e945f0abaf191376122a1563185a90213a26c5da77"
   }
  }
 },
 "nbformat": 4,
 "nbformat_minor": 2
}
